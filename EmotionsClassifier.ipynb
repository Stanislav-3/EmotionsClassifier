{
  "nbformat": 4,
  "nbformat_minor": 0,
  "metadata": {
    "colab": {
      "name": "EmotionsClassifier.ipynb",
      "provenance": [],
      "authorship_tag": "ABX9TyOWNK7jBZUp7WAeL9FeRjsy"
    },
    "kernelspec": {
      "name": "python3",
      "display_name": "Python 3"
    },
    "language_info": {
      "name": "python"
    },
    "accelerator": "GPU"
  },
  "cells": [
    {
      "cell_type": "code",
      "execution_count": null,
      "metadata": {
        "id": "0RxqCKgKzGGC"
      },
      "outputs": [],
      "source": [
        ""
      ]
    }
  ]
}